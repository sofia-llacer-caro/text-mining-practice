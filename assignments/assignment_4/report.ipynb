{
 "cells": [
  {
   "cell_type": "markdown",
   "metadata": {},
   "source": [
    "# **Amazon Product Review : Business problem**\n",
    "### _Authors: Magdalena Szymanowska & Sofia Llàcer Caro_\n",
    "**Perform a sentiment Analysis for Amazon Reviews using NTLK and other required Python\n",
    "packages and solve the business problem for Amazon as stated through the questions below.**\n",
    "\n",
    "In order to elaborate the report, we considered that it would be clearer to first preprocess the review data through the script `preprocessing_pipeline.py`. That way, we would be able to produce a file with the fields relevant to the questions, and discuss the way they could be used in the current notebook. For more details on the preprocessing pipeline, the way this data was generated and the tools used, feel free to have a look at the source python file included in this directory."
   ]
  },
  {
   "cell_type": "code",
   "execution_count": 51,
   "metadata": {},
   "outputs": [
    {
     "data": {
      "text/html": [
       "<div>\n",
       "<style scoped>\n",
       "    .dataframe tbody tr th:only-of-type {\n",
       "        vertical-align: middle;\n",
       "    }\n",
       "\n",
       "    .dataframe tbody tr th {\n",
       "        vertical-align: top;\n",
       "    }\n",
       "\n",
       "    .dataframe thead th {\n",
       "        text-align: right;\n",
       "    }\n",
       "</style>\n",
       "<table border=\"1\" class=\"dataframe\">\n",
       "  <thead>\n",
       "    <tr style=\"text-align: right;\">\n",
       "      <th></th>\n",
       "      <th>product</th>\n",
       "      <th>avg_rating</th>\n",
       "      <th>num_ratings</th>\n",
       "      <th>percent_neg</th>\n",
       "      <th>percent_pos</th>\n",
       "      <th>percent_neu</th>\n",
       "      <th>percent_winter</th>\n",
       "      <th>product_name</th>\n",
       "    </tr>\n",
       "  </thead>\n",
       "  <tbody>\n",
       "    <tr>\n",
       "      <th>0</th>\n",
       "      <td>AVpgNzjwLJeJML43Kpxn</td>\n",
       "      <td>4.44804</td>\n",
       "      <td>8343</td>\n",
       "      <td>0.02565</td>\n",
       "      <td>0.461704</td>\n",
       "      <td>0.512645</td>\n",
       "      <td>0.0</td>\n",
       "      <td>AmazonBasics AAA Performance Alkaline Batterie...</td>\n",
       "    </tr>\n",
       "    <tr>\n",
       "      <th>1</th>\n",
       "      <td>AVpe7nGV1cnluZ0-aG2o</td>\n",
       "      <td>4.25000</td>\n",
       "      <td>4</td>\n",
       "      <td>0.00000</td>\n",
       "      <td>0.500000</td>\n",
       "      <td>0.500000</td>\n",
       "      <td>0.0</td>\n",
       "      <td>AmazonBasics Nylon CD/DVD Binder (400 Capacity)</td>\n",
       "    </tr>\n",
       "    <tr>\n",
       "      <th>2</th>\n",
       "      <td>AVpfl8cLLJeJML43AE3S</td>\n",
       "      <td>5.00000</td>\n",
       "      <td>2</td>\n",
       "      <td>0.00000</td>\n",
       "      <td>0.000000</td>\n",
       "      <td>1.000000</td>\n",
       "      <td>0.0</td>\n",
       "      <td>Amazon Echo ‚Äì White</td>\n",
       "    </tr>\n",
       "    <tr>\n",
       "      <th>3</th>\n",
       "      <td>AWK8z0pOIwln0LfXlSxH</td>\n",
       "      <td>5.00000</td>\n",
       "      <td>1</td>\n",
       "      <td>0.00000</td>\n",
       "      <td>0.000000</td>\n",
       "      <td>1.000000</td>\n",
       "      <td>0.0</td>\n",
       "      <td>Amazon Echo Show - Black</td>\n",
       "    </tr>\n",
       "    <tr>\n",
       "      <th>4</th>\n",
       "      <td>AWYAV-i9Iwln0LfXqrUq</td>\n",
       "      <td>4.50000</td>\n",
       "      <td>2</td>\n",
       "      <td>0.00000</td>\n",
       "      <td>0.000000</td>\n",
       "      <td>1.000000</td>\n",
       "      <td>0.0</td>\n",
       "      <td>Echo Spot Pair Kit (Black)</td>\n",
       "    </tr>\n",
       "  </tbody>\n",
       "</table>\n",
       "</div>"
      ],
      "text/plain": [
       "                product  avg_rating  num_ratings  percent_neg  percent_pos  \\\n",
       "0  AVpgNzjwLJeJML43Kpxn     4.44804         8343      0.02565     0.461704   \n",
       "1  AVpe7nGV1cnluZ0-aG2o     4.25000            4      0.00000     0.500000   \n",
       "2  AVpfl8cLLJeJML43AE3S     5.00000            2      0.00000     0.000000   \n",
       "3  AWK8z0pOIwln0LfXlSxH     5.00000            1      0.00000     0.000000   \n",
       "4  AWYAV-i9Iwln0LfXqrUq     4.50000            2      0.00000     0.000000   \n",
       "\n",
       "   percent_neu  percent_winter  \\\n",
       "0     0.512645             0.0   \n",
       "1     0.500000             0.0   \n",
       "2     1.000000             0.0   \n",
       "3     1.000000             0.0   \n",
       "4     1.000000             0.0   \n",
       "\n",
       "                                        product_name  \n",
       "0  AmazonBasics AAA Performance Alkaline Batterie...  \n",
       "1    AmazonBasics Nylon CD/DVD Binder (400 Capacity)  \n",
       "2                              Amazon Echo ‚Äì White  \n",
       "3                           Amazon Echo Show - Black  \n",
       "4                         Echo Spot Pair Kit (Black)  "
      ]
     },
     "execution_count": 51,
     "metadata": {},
     "output_type": "execute_result"
    }
   ],
   "source": [
    "import pandas as pd\n",
    "\n",
    "# Import data\n",
    "df = pd.read_csv(\"preprocessed_data.csv\")\n",
    "df.head()"
   ]
  },
  {
   "cell_type": "markdown",
   "metadata": {},
   "source": [
    "## 1. Which products should be kept?\n",
    "We decided that we should keep the products that have a lot of reviews and mostly good, as they are most liked  by the consumers. We decided to set a threshold of number of reviews for the rating at 2 stars average."
   ]
  },
  {
   "cell_type": "code",
   "execution_count": 66,
   "metadata": {},
   "outputs": [
    {
     "name": "stdout",
     "output_type": "stream",
     "text": [
      "The following products should be kept:\n",
      "0     AmazonBasics AAA Performance Alkaline Batterie...\n",
      "1       AmazonBasics Nylon CD/DVD Binder (400 Capacity)\n",
      "2                                 Amazon Echo ‚Äì White\n",
      "3                              Amazon Echo Show - Black\n",
      "4                            Echo Spot Pair Kit (Black)\n",
      "                            ...                        \n",
      "58    Kindle E-reader - White, 6 Glare-Free Touchscr...\n",
      "59    Amazon Fire TV Gaming Edition Streaming Media ...\n",
      "61    All-New Kindle Oasis E-reader - 7 High-Resolut...\n",
      "62    AmazonBasics Bluetooth Keyboard for Android De...\n",
      "64    Fire HD 8 Tablet with Alexa, 8 HD Display, 16 ...\n",
      "Name: product_name, Length: 62, dtype: object\n"
     ]
    }
   ],
   "source": [
    "# Thresholds\n",
    "q1_rating_threshold = 3\n",
    "\n",
    "# Filtering results\n",
    "q1_filtered_df = df[df['avg_rating'] > q1_rating_threshold]\n",
    "q1_kept = q1_filtered_df['product_name']\n",
    "q1_answer = f\"The following products should be kept:\\n{q1_kept}\"\n",
    "print(q1_answer)"
   ]
  },
  {
   "cell_type": "markdown",
   "metadata": {},
   "source": [
    "## 2. Which products should be dropped?\n",
    "Because this is quite critical as it involves removing products from the market, we also add here the condition that the number of reviews should be more than a threshold. That way, we ensure that we give a chance to products that have low ratings and a low number of reviews. We realise that the ones that should be kept and the ones that should be dropped are not exaclty opposite of each other here, but we decided to add the constraint of the number of ratings in this case so that there is a sort of transition from one category to another in the case of products with a low number of reviews, like a probation-like period."
   ]
  },
  {
   "cell_type": "code",
   "execution_count": 72,
   "metadata": {},
   "outputs": [
    {
     "name": "stdout",
     "output_type": "stream",
     "text": [
      "The following products should be dropped:\n",
      "Series([], Name: product_name, dtype: object)\n"
     ]
    }
   ],
   "source": [
    "# Thresholds\n",
    "q2_rating_threshold = 3\n",
    "q2_num_reviews_threshold = 10\n",
    "\n",
    "# Filtering results\n",
    "q2_filtered_df = df[(df['num_ratings'] > q2_num_reviews_threshold) & (df['avg_rating'] < q2_rating_threshold)]\n",
    "q2_dropped = q2_filtered_df['product_name']\n",
    "q2_answer = f\"The following products should be dropped:\\n{q2_dropped}\"\n",
    "print(q2_answer)"
   ]
  },
  {
   "cell_type": "markdown",
   "metadata": {},
   "source": [
    "## 3. Which products are junk?\n",
    "Here, we chose a similar strategy as in the previous question. However, we can deem a product junk and not necessarily decide to make the decision to drop it. That's why in this case we made a less restrictive filtering of the products, involving only the condition that they have an average rating under 2 stars out of 5."
   ]
  },
  {
   "cell_type": "code",
   "execution_count": 73,
   "metadata": {},
   "outputs": [
    {
     "name": "stdout",
     "output_type": "stream",
     "text": [
      "The following products are junk:\n",
      "23    Oem Amazon Kindle Power Usb Adapter Wall Trave...\n",
      "Name: product_name, dtype: object\n"
     ]
    }
   ],
   "source": [
    "# Thresholds\n",
    "q3_rating_threshold = 2\n",
    "\n",
    "# Filtering results\n",
    "q3_filtered_df = df[df['avg_rating'] < q3_rating_threshold]\n",
    "q3_junk = q3_filtered_df['product_name']\n",
    "q3_answer = f\"The following products are junk:\\n{q3_junk}\"\n",
    "print(q3_answer)"
   ]
  },
  {
   "cell_type": "markdown",
   "metadata": {},
   "source": [
    "## 4. Which product should be recommended to customer?\n",
    "We consider the doRecommend field in the original raw data provided (before preprocessing) would have been very useful for that. However, it was empty in all cases, which means this information could not be assessed. That is why we recur in this case to products with good reviews (average rating above 4.5) and also a lot of them."
   ]
  },
  {
   "cell_type": "code",
   "execution_count": 74,
   "metadata": {},
   "outputs": [
    {
     "name": "stdout",
     "output_type": "stream",
     "text": [
      "The following products should be recommended to the customer:\n",
      "19    Amazon Tap Smart Assistant Alexaenabled (black...\n",
      "26    Kindle Voyage E-reader, 6 High-Resolution Disp...\n",
      "30    All-New Fire HD 8 Tablet, 8 HD Display, Wi-Fi,...\n",
      "31    Fire Kids Edition Tablet, 7 Display, Wi-Fi, 16...\n",
      "32    All-New Fire HD 8 Tablet, 8 HD Display, Wi-Fi,...\n",
      "33    All-New Fire HD 8 Tablet, 8 HD Display, Wi-Fi,...\n",
      "37    Fire Tablet, 7 Display, Wi-Fi, 16 GB - Include...\n",
      "39    All-New Fire HD 8 Tablet, 8 HD Display, Wi-Fi,...\n",
      "42    Amazon Fire HD 8 with Alexa (8\" HD Display Tab...\n",
      "46    All-New Fire HD 8 Kids Edition Tablet, 8 HD Di...\n",
      "47    All-New Fire HD 8 Kids Edition Tablet, 8 HD Di...\n",
      "48    All-New Fire HD 8 Tablet with Alexa, 8 HD Disp...\n",
      "49    All-New Fire HD 8 Tablet with Alexa, 8 HD Disp...\n",
      "50    Fire Tablet with Alexa, 7 Display, 16 GB, Mage...\n",
      "52    Fire Tablet with Alexa, 7 Display, 16 GB, Blue...\n",
      "55    Fire Kids Edition Tablet, 7 Display, Wi-Fi, 16...\n",
      "56    Fire HD 8 Tablet with Alexa, 8 HD Display, 32 ...\n",
      "57    Fire Kids Edition Tablet, 7 Display, Wi-Fi, 16...\n",
      "58    Kindle E-reader - White, 6 Glare-Free Touchscr...\n",
      "64    Fire HD 8 Tablet with Alexa, 8 HD Display, 16 ...\n",
      "Name: product_name, dtype: object\n"
     ]
    }
   ],
   "source": [
    "# Thresholds\n",
    "q4_rating_threshold = 4.5\n",
    "q4_num_reviews_threshold = 100\n",
    "\n",
    "# Filtering results\n",
    "q4_filtered_df = df[(df['num_ratings'] > q4_num_reviews_threshold) & (df['avg_rating'] > q4_rating_threshold)]\n",
    "q4_recommended = q4_filtered_df['product_name']\n",
    "q4_answer = f\"The following products should be recommended to the customer:\\n{q4_recommended}\"\n",
    "print(q4_answer)"
   ]
  },
  {
   "cell_type": "markdown",
   "metadata": {},
   "source": [
    "## 5. Which consumer products are the best products?\n",
    "We consider these to be the products with average rating aabove 4.5, a lot of reviews (more than the number in the previous question) and a high portion of postive reviews. Note that here we make the requirement of number of reviews more restrictive as, in the case before, products that are good and not necessarily have a lot of reviews could be not recommended and then that would be unfair to products that are good but have slightly less reviews, making the disparities bigger between these two cases. Finally, here we included the additional constraint of positive review sentiment unlike in the previous question because we would not like to influence the consumer with other cosumer's opinions, which would then go into the case where first reviews are, to some extent, more valuable, important or authentic than latter ones.\n"
   ]
  },
  {
   "cell_type": "code",
   "execution_count": 75,
   "metadata": {},
   "outputs": [
    {
     "name": "stdout",
     "output_type": "stream",
     "text": [
      "The following are the best products:\n",
      "30    All-New Fire HD 8 Tablet, 8 HD Display, Wi-Fi,...\n",
      "64    Fire HD 8 Tablet with Alexa, 8 HD Display, 16 ...\n",
      "Name: product_name, dtype: object\n"
     ]
    }
   ],
   "source": [
    "# Thresholds\n",
    "q5_rating_threshold = 4.5\n",
    "q5_num_reviews_threshold = 500\n",
    "q5_review_analysis_threshold = 0.5\n",
    "\n",
    "# Filtering results\n",
    "q5_filtered_df = df[(df['num_ratings'] > q5_num_reviews_threshold) & (df['avg_rating'] > q5_rating_threshold) & (df['percent_pos'] > q5_review_analysis_threshold)]\n",
    "q5_best = q5_filtered_df['product_name']\n",
    "q5_answer = f\"The following are the best products:\\n{q5_best}\"\n",
    "print(q5_answer)"
   ]
  },
  {
   "cell_type": "markdown",
   "metadata": {},
   "source": [
    "## 6. Which products should be planned for inventory for coming winter? \n",
    "We decided to choose the ones that have a good average rating and also are mostly bought in winter. For this, we selected those for which the rating of purchase in winter months over all purchases is higher than 0.5 (indicating more than half the purchases of this product are done over winter). We also added the number of reviews, because otherwise there could be a case where a product has 1 purchase and just happened to be in winter. We also added those that are relatively positive rating, as people would order it again next year if they were happy with it before. On the other side, if the reviews are bad from previous year, it is less likely there will be demand for it as users will see the rating and not want to order it. For more details on the calculations done on the raw data and adaptability to other time periods, refer to `preprocessing_pipeline.py`."
   ]
  },
  {
   "cell_type": "code",
   "execution_count": 79,
   "metadata": {},
   "outputs": [
    {
     "name": "stdout",
     "output_type": "stream",
     "text": [
      "The following are products to be planned in inventory for winter:\n",
      "6     AmazonBasics AA Performance Alkaline Batteries...\n",
      "10         AmazonBasics 15.6-Inch Laptop and Tablet Bag\n",
      "14    Amazon 9W PowerFast Official OEM USB Charger a...\n",
      "19    Amazon Tap Smart Assistant Alexaenabled (black...\n",
      "31    Fire Kids Edition Tablet, 7 Display, Wi-Fi, 16...\n",
      "35    Kindle Voyage E-reader, 6 High-Resolution Disp...\n",
      "54    All-New Kindle Oasis E-reader - 7 High-Resolut...\n",
      "55    Fire Kids Edition Tablet, 7 Display, Wi-Fi, 16...\n",
      "Name: product_name, dtype: object\n"
     ]
    }
   ],
   "source": [
    "# Thresholds\n",
    "q6_season_threshold = 0.5\n",
    "q6_num_reviews = 20\n",
    "q6_rating_threshold = 4\n",
    "\n",
    "# Filtering results\n",
    "q6_filtered_df = df[(df['percent_winter'] > q6_season_threshold) & (df['num_ratings'] > q6_num_reviews) & (df['avg_rating'] > q6_rating_threshold)]\n",
    "q6_best = q6_filtered_df['product_name']\n",
    "q6_answer = f\"The following are products to be planned in inventory for winter:\\n{q6_best}\"\n",
    "print(q6_answer)"
   ]
  },
  {
   "cell_type": "markdown",
   "metadata": {},
   "source": [
    "## 7. Which products require advertisment? \n",
    "Those requiring advertisment we established to be the ones that have good ratings and positive reviews, but a low number of them. This way, we could compensate for these low numbers and the products would be part of a nudge program where the products in these characteristics would be advertised."
   ]
  },
  {
   "cell_type": "code",
   "execution_count": 85,
   "metadata": {},
   "outputs": [
    {
     "name": "stdout",
     "output_type": "stream",
     "text": [
      "The following are products that require advertisment:\n",
      "15    Kindle PowerFast International Charging Kit (f...\n",
      "24        AmazonBasics 16-Gauge Speaker Wire - 100 Feet\n",
      "Name: product_name, dtype: object\n"
     ]
    }
   ],
   "source": [
    "# Thresholds\n",
    "q7_review_analysis_threshold = 0.5\n",
    "q7_num_reviews = 20\n",
    "q7_rating_threshold = 4.5\n",
    "\n",
    "# Filtering results\n",
    "q7_filtered_df = df[(df['percent_pos'] > q7_review_analysis_threshold) & (df['num_ratings'] < q7_num_reviews) & (df['avg_rating'] > q7_rating_threshold)]\n",
    "q7_best = q7_filtered_df['product_name']\n",
    "q7_answer = f\"The following are products that require advertisment:\\n{q7_best}\"\n",
    "print(q7_answer)"
   ]
  },
  {
   "cell_type": "markdown",
   "metadata": {},
   "source": [
    "## 8. In list of opinion O how many quintuples have positive sentiment s?"
   ]
  }
 ],
 "metadata": {
  "kernelspec": {
   "display_name": ".venv",
   "language": "python",
   "name": "python3"
  },
  "language_info": {
   "codemirror_mode": {
    "name": "ipython",
    "version": 3
   },
   "file_extension": ".py",
   "mimetype": "text/x-python",
   "name": "python",
   "nbconvert_exporter": "python",
   "pygments_lexer": "ipython3",
   "version": "3.11.8"
  }
 },
 "nbformat": 4,
 "nbformat_minor": 2
}
