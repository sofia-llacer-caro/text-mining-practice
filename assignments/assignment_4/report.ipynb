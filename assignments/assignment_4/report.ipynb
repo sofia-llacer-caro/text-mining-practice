{
 "cells": [
  {
   "cell_type": "markdown",
   "metadata": {},
   "source": [
    "# **Amazon Product Review : Business problem**\n",
    "### _Authors: Magdalena Szymanowska & Sofia Llàcer Caro_\n",
    "**Perform a sentiment Analysis for Amazon Reviews using NTLK and other required Python\n",
    "packages and solve the business problem for Amazon as stated through the questions below.**\n",
    "\n",
    "In order to elaborate the report, we considered that it would be clearer to first preprocess the review data through the script `preprocessing_pipeline.py`. That way, we would be able to produce a file with the fields relevant to the questions, and discuss the way they could be used in the current notebook. For more details on the preprocessing pipeline, the way this data was generated and the tools used, feel free to have a look at the source python file included in this directory."
   ]
  },
  {
   "cell_type": "markdown",
   "metadata": {},
   "source": [
    "## 1. Which products should be kept?"
   ]
  },
  {
   "cell_type": "markdown",
   "metadata": {},
   "source": [
    "## 2. Which products should be dropped?"
   ]
  },
  {
   "cell_type": "markdown",
   "metadata": {},
   "source": [
    "## 3. Which products are junk?\n",
    " (lot of reviews and all a bad, decline in buying in time)\n"
   ]
  },
  {
   "cell_type": "markdown",
   "metadata": {},
   "source": [
    "## 4. Which product should be recommended to customer?\n",
    " (good reviews, good rating, lot of rating, doRecommend)\n"
   ]
  },
  {
   "cell_type": "markdown",
   "metadata": {},
   "source": [
    "## 5. Which consumer products are the best products? \n",
    "(Best rating, most ratings, text reviews good sentiment)\n"
   ]
  },
  {
   "cell_type": "markdown",
   "metadata": {},
   "source": [
    "## 6. Which products should be planned for inventory for coming winter? \n",
    "(Good reviews and more buying during winter)\n"
   ]
  },
  {
   "cell_type": "markdown",
   "metadata": {},
   "source": [
    "## 7. Which products require advertisment? \n",
    "(Little reviews, good ratings, would recommend)\n"
   ]
  },
  {
   "cell_type": "markdown",
   "metadata": {},
   "source": [
    "## 8. In list of opinion O how many quintuples have positive sentiment s?"
   ]
  }
 ],
 "metadata": {
  "kernelspec": {
   "display_name": ".venv",
   "language": "python",
   "name": "python3"
  },
  "language_info": {
   "codemirror_mode": {
    "name": "ipython",
    "version": 3
   },
   "file_extension": ".py",
   "mimetype": "text/x-python",
   "name": "python",
   "nbconvert_exporter": "python",
   "pygments_lexer": "ipython3",
   "version": "3.11.8"
  }
 },
 "nbformat": 4,
 "nbformat_minor": 2
}
